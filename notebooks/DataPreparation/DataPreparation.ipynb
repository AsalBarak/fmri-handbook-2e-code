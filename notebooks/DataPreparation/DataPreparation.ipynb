{
 "cells": [
  {
   "cell_type": "markdown",
   "metadata": {},
   "source": [
    "This notebook generates the processed data for all of the chapter-specific notebooks from Poldrack, Mumford, and Nichols' _Handbook of fMRI Data Analysis (2nd Edition)_"
   ]
  },
  {
   "cell_type": "code",
   "execution_count": null,
   "metadata": {
    "collapsed": false
   },
   "outputs": [],
   "source": [
    "import os, errno, sys,shutil\n",
    "\n",
    "datadir=os.getenv('FMRIBOOKDATA')\n",
    "if not datadir:\n",
    "    raise Exception('You need to set the environment variable FMRIBOOKDATA')\n",
    "else:\n",
    "    print 'using base dir:',datadir\n",
    "\n",
    "assert os.path.exists(datadir)\n",
    "\n",
    "%matplotlib inline\n",
    "\n",
    "from nipype.interfaces import fsl, nipy, ants\n",
    "import nibabel\n",
    "from wand.image import Image as WImage\n",
    "import numpy\n",
    "import nilearn.plotting\n",
    "import matplotlib.pyplot as plt\n",
    "from nipype.caching import Memory\n",
    "from nilearn.input_data import NiftiMasker\n",
    "\n",
    "sys.path.append('../../utils')\n",
    "from compute_fd_dvars import compute_fd,compute_dvars\n",
    "from get_data import get_data\n",
    "data=get_data()\n",
    "\n",
    "# use nipype's caching mechanism to save the results of the processing\n",
    "mem = Memory(base_dir='.')\n",
    "\n",
    "\n",
    "figuredir='../../figures'\n",
    "if not os.path.exists(figuredir):\n",
    "    os.mkdir(figuredir)\n",
    "\n",
    "boldfile=data['func']\n",
    "\n",
    "def force_symlink(file1, file2):\n",
    "    try:\n",
    "        os.symlink(file1, file2)\n",
    "    except OSError, e:\n",
    "        if e.errno == errno.EEXIST:\n",
    "            os.remove(file2)\n",
    "            os.symlink(file1, file2)"
   ]
  },
  {
   "cell_type": "markdown",
   "metadata": {},
   "source": [
    "##Structural preprocessing"
   ]
  },
  {
   "cell_type": "markdown",
   "metadata": {},
   "source": [
    "###Bias field correction"
   ]
  },
  {
   "cell_type": "code",
   "execution_count": null,
   "metadata": {
    "collapsed": false
   },
   "outputs": [],
   "source": [
    "bias_field_correction = mem.cache(ants.N4BiasFieldCorrection)\n",
    "bias_field_correction_results = bias_field_correction(input_image = data['T1'], \n",
    "                                                    dimension = 3,\n",
    "                                                    save_bias = True)\n",
    "print bias_field_correction_results.outputs\n",
    "shutil.copy(bias_field_correction_results.outputs.bias_image,datadir)\n",
    "shutil.copy(bias_field_correction_results.outputs.output_image,datadir)\n"
   ]
  },
  {
   "cell_type": "code",
   "execution_count": null,
   "metadata": {
    "collapsed": false
   },
   "outputs": [],
   "source": [
    "fig = plt.figure(figsize=(12,6))\n",
    "nilearn.plotting.plot_anat(data['T1'], colorbar=True, vmax=3000, display_mode='z', cut_coords=(14, 40), \n",
    "                           title=\"original T1\", figure=fig)\n",
    "fig = plt.figure(figsize=(12,6))\n",
    "nilearn.plotting.plot_anat(bias_field_correction_results.outputs.bias_image, display_mode='z', \n",
    "                          cut_coords=(14, 40), colorbar=True, title=\"estimated bias field\", figure=fig)\n",
    "fig = plt.figure(figsize=(12,6))\n",
    "nilearn.plotting.plot_anat(bias_field_correction_results.outputs.output_image, colorbar=True, \n",
    "                           vmax=3000, display_mode='z', cut_coords=(14, 40), title=\"corrected T1\", figure=fig)"
   ]
  },
  {
   "cell_type": "markdown",
   "metadata": {},
   "source": [
    "###Brain extraction using BET###"
   ]
  },
  {
   "cell_type": "code",
   "execution_count": null,
   "metadata": {
    "collapsed": false
   },
   "outputs": [],
   "source": [
    "bet = mem.cache(fsl.BET)\n",
    "bet_results = bet(in_file=bias_field_correction_results.outputs.output_image,\n",
    "                  mask=True,\n",
    "                  frac=0.3,\n",
    "                 reduce_bias=True) # use reduce_bias option for neck cleanup\n",
    "\n",
    "mask_display=nilearn.plotting.plot_epi(data['T1'],cmap='gray')\n",
    "mask_display.add_contours(bet_results.outputs.mask_file, levels=[.5]) \n",
    "print bet_results.outputs\n",
    "shutil.copy(bet_results.outputs.mask_file,datadir)\n",
    "shutil.copy(bet_results.outputs.out_file,datadir)\n"
   ]
  },
  {
   "cell_type": "markdown",
   "metadata": {},
   "source": [
    "### Segmentation using FAST\n",
    "\n",
    "Do this to obtain the white matter mask, which we need for BBR registration."
   ]
  },
  {
   "cell_type": "code",
   "execution_count": null,
   "metadata": {
    "collapsed": false
   },
   "outputs": [],
   "source": [
    "fast = mem.cache(fsl.FAST)\n",
    "fast_results = fast(in_files=[bet_results.outputs.out_file])\n",
    "print fast_results.outputs\n",
    "\n",
    "wmpve=nibabel.load(fast_results.outputs.partial_volume_files[2])\n",
    "wmseg=wmpve.get_data()>0.25\n",
    "wmsegimg=nibabel.Nifti1Image(wmseg,wmpve.get_affine(),wmpve.get_header())\n",
    "wmsegimg.to_filename(os.path.join(datadir,'sub018_t1_corrected_brain_wmseg.nii.gz'))"
   ]
  },
  {
   "cell_type": "markdown",
   "metadata": {},
   "source": [
    "### Spatial normalization using ANTs"
   ]
  },
  {
   "cell_type": "code",
   "execution_count": null,
   "metadata": {
    "collapsed": false
   },
   "outputs": [],
   "source": [
    "ants_reg = mem.cache(ants.Registration)\n",
    "ants_results = ants_reg(fixed_image = os.path.join(os.getenv('FSLDIR'),'data/standard/MNI152_T1_2mm_brain.nii.gz'),\n",
    "                    moving_image = bet_results.outputs.out_file,\n",
    "                    transforms = ['Translation', 'Rigid', 'Affine', 'SyN'],\n",
    "                    transform_parameters = [(0.1,), (0.1,), (0.1,), (0.2, 3.0, 0.0)],\n",
    "                    #number_of_iterations = ([[10000, 111110, 11110]]*3 +\n",
    "                    #                [[100, 50, 30]]),\n",
    "                    number_of_iterations = ([[10, 10, 10]]*3 +\n",
    "                                    [[1, 5, 3]]),\n",
    "                    dimension = 3,\n",
    "                    write_composite_transform = True,\n",
    "                    metric = ['Mattes'] * 3 + [['Mattes', 'CC']],\n",
    "                    metric_weight = [1] * 3 + [[0.5, 0.5]],\n",
    "                    radius_or_number_of_bins = [32] * 3 + [[32, 4]],\n",
    "                    sampling_strategy = ['Regular'] * 3 + [[None, None]],\n",
    "                    sampling_percentage = [0.3] * 3 + [[None, None]],\n",
    "                    convergence_threshold = [1.e-8] * 3 + [-0.01],\n",
    "                    convergence_window_size = [20] * 3 + [5],\n",
    "                    smoothing_sigmas = [[4, 2, 1]] * 3 + [[1, 0.5, 0]],\n",
    "                    sigma_units = ['vox'] * 4,\n",
    "                    shrink_factors = [[6, 4, 2]] + [[3, 2, 1]]*2 + [[4, 2, 1]],\n",
    "                    use_estimate_learning_rate_once = [True] * 4,\n",
    "                    use_histogram_matching = [False] * 3 + [True],\n",
    "                    initial_moving_transform_com = True,\n",
    "                    output_warped_image = True)\n",
    "shutil.copy(ants_results.outputs.composite_transform, os.path.join(datadir, \"t1_to_mni_warp.h5\"))\n",
    "shutil.copy(ants_results.outputs.warped_image,os.path.join(datadir,'t1_to_mni_warp.nii.gz'))\n",
    "ants_results.outputs"
   ]
  },
  {
   "cell_type": "code",
   "execution_count": null,
   "metadata": {
    "collapsed": true
   },
   "outputs": [],
   "source": [
    "T1_to_MNI_warp = mem.cache(ants.ApplyTransforms)\n",
    "T1wm_to_MNI_warp_results = T1_to_MNI_warp(input_image = epi_reg_results.outputs.wmseg,\n",
    "                                          reference_image = os.path.join(os.getenv('FSLDIR'),'data/standard/MNI152_T1_2mm_brain.nii.gz'),\n",
    "                                          interpolation = \"NearestNeighbor\",\n",
    "                                          transforms = ants_results.outputs.composite_transform)\n",
    "\n",
    "fig = nilearn.plotting.plot_anat(os.path.join(os.getenv('FSLDIR'),'data/standard/MNI152_T1_2mm_brain.nii.gz'))\n",
    "fig.add_contours(T1wm_to_MNI_warp_results.outputs.output_image, levels=[.5]) "
   ]
  },
  {
   "cell_type": "markdown",
   "metadata": {},
   "source": [
    "### Register T2 to T1\n",
    "    "
   ]
  },
  {
   "cell_type": "code",
   "execution_count": null,
   "metadata": {
    "collapsed": false
   },
   "outputs": [],
   "source": [
    "flirt=mem.cache(fsl.FLIRT)\n",
    "flirt_results=flirt(in_file=data['T2'],reference=os.path.join(datadir,'sub018_t1_corrected.nii.gz'),\n",
    "                    out_file=os.path.join(datadir,'t2_reg2t1.nii.gz'),\n",
    "                    cost='normmi',interp='spline')\n",
    "flirt_results.outputs"
   ]
  },
  {
   "cell_type": "markdown",
   "metadata": {},
   "source": [
    "## Functional preprocessing\n",
    "\n",
    "### Motion correction using MCFLIRT"
   ]
  },
  {
   "cell_type": "markdown",
   "metadata": {},
   "source": [
    "This will take a few minutes."
   ]
  },
  {
   "cell_type": "code",
   "execution_count": null,
   "metadata": {
    "collapsed": false
   },
   "outputs": [],
   "source": [
    "mcflirt = mem.cache(fsl.MCFLIRT)\n",
    "mcflirt_results = mcflirt(in_file=boldfile,\n",
    "                          save_plots=True,\n",
    "                          mean_vol=True)\n",
    "mcflirt_results.outputs\n",
    "\n",
    "shutil.copy(mcflirt_results.outputs.mean_img, os.path.join(datadir, \"meanbold.nii.gz\"))\n",
    "shutil.copy(mcflirt_results.outputs.par_file, os.path.join(datadir, \"motion.par\"))"
   ]
  },
  {
   "cell_type": "markdown",
   "metadata": {},
   "source": [
    "Make links for the mean functional image and the motion parameters."
   ]
  },
  {
   "cell_type": "markdown",
   "metadata": {},
   "source": [
    "##Brain extraction##\n",
    "\n",
    "Use FSL's BET to obtain the brain mask for the functional data"
   ]
  },
  {
   "cell_type": "code",
   "execution_count": null,
   "metadata": {
    "collapsed": false
   },
   "outputs": [],
   "source": [
    "bet = mem.cache(fsl.BET)\n",
    "bet_results = bet(functional=True,\n",
    "              in_file=mcflirt_results.outputs.mean_img,\n",
    "              mask=True)\n",
    "shutil.copy(bet_results.outputs.mask_file, os.path.join(datadir, \"bold_mask.nii.gz\"))\n",
    "bet_results.outputs"
   ]
  },
  {
   "cell_type": "markdown",
   "metadata": {},
   "source": [
    "Display the mean image, and show the outline of the brain mask."
   ]
  },
  {
   "cell_type": "code",
   "execution_count": null,
   "metadata": {
    "collapsed": false,
    "scrolled": true
   },
   "outputs": [],
   "source": [
    "mask_display=nilearn.plotting.plot_epi(mcflirt_results.outputs.mean_img,cmap='gray')\n",
    "mask_display.add_contours(bet_results.outputs.mask_file, levels=[.5])"
   ]
  },
  {
   "cell_type": "markdown",
   "metadata": {},
   "source": [
    "Compute and plot the global signal within the mask across timepoints"
   ]
  },
  {
   "cell_type": "code",
   "execution_count": null,
   "metadata": {
    "collapsed": false
   },
   "outputs": [],
   "source": [
    "niftimasker=NiftiMasker(mask_img=bet_results.outputs.mask_file)\n",
    "bolddata_masked=niftimasker.fit_transform(mcflirt_results.outputs.out_file)\n",
    "globalmean=numpy.mean(bolddata_masked,1)"
   ]
  },
  {
   "cell_type": "markdown",
   "metadata": {},
   "source": [
    "### QA for fMRI data"
   ]
  },
  {
   "cell_type": "markdown",
   "metadata": {},
   "source": [
    "Load motion data and compute FD/DVARS"
   ]
  },
  {
   "cell_type": "code",
   "execution_count": null,
   "metadata": {
    "collapsed": false
   },
   "outputs": [],
   "source": [
    "motiondata=numpy.loadtxt(mcflirt_results.outputs.par_file)\n",
    "fd=compute_fd(motiondata)\n",
    "dvars=compute_dvars(globalmean)\n",
    "numpy.savetxt(os.path.join(datadir,'FD.txt'),fd)\n",
    "numpy.savetxt(os.path.join(datadir,'DVARS.txt'),dvars)"
   ]
  },
  {
   "cell_type": "code",
   "execution_count": null,
   "metadata": {
    "collapsed": false,
    "scrolled": true
   },
   "outputs": [],
   "source": [
    "f, (ax1, ax2,ax3)=plt.subplots(3, sharex=True)\n",
    "ax1.plot(globalmean)\n",
    "ax1.set_title('Mean global signal for in-mask voxels')\n",
    "\n",
    "ax2.plot(fd)\n",
    "ax2.set_title('Framewise Displacement')\n",
    "\n",
    "ax3.plot(dvars)\n",
    "ax3.set_title('DVARS')\n",
    "plt.tight_layout()"
   ]
  },
  {
   "cell_type": "markdown",
   "metadata": {},
   "source": [
    "## Performing Independent Component Analysis to look for artefacts"
   ]
  },
  {
   "cell_type": "markdown",
   "metadata": {},
   "source": [
    "Run independent components analysis on the data using MELODIC - this will take a few minutes."
   ]
  },
  {
   "cell_type": "code",
   "execution_count": null,
   "metadata": {
    "collapsed": false
   },
   "outputs": [],
   "source": [
    "melodic = mem.cache(fsl.MELODIC)\n",
    "melodic_results = melodic(out_all=True,\n",
    "                          report=True,\n",
    "                          in_files=mcflirt_results.outputs.out_file,\n",
    "                          mask=bet_results.outputs.mask_file)\n",
    "melodic_results.outputs\n",
    "shutil.copytree(melodic_results.outputs.out_dir,os.path.join(datadir,'sub00001_ses014_task002_run001_bold.ica'))\n"
   ]
  },
  {
   "cell_type": "markdown",
   "metadata": {},
   "source": [
    "Check out the MELODIC report"
   ]
  },
  {
   "cell_type": "code",
   "execution_count": null,
   "metadata": {
    "collapsed": false
   },
   "outputs": [],
   "source": [
    "from IPython.display import FileLink\n",
    "FileLink(os.path.join(melodic_results.outputs.report_dir, '00index.html').split(os.getcwd() + '/')[1])"
   ]
  },
  {
   "cell_type": "markdown",
   "metadata": {},
   "source": [
    "Load the ICA components and examine their correlation with the motion signals. For components with a correlation > 0.4, show the component voxels."
   ]
  },
  {
   "cell_type": "code",
   "execution_count": null,
   "metadata": {
    "collapsed": false
   },
   "outputs": [],
   "source": [
    "ica_comps=numpy.loadtxt(os.path.join(melodic_results.outputs.out_dir,'melodic_mix'))\n",
    "os.listdir(melodic_results.outputs.out_dir)"
   ]
  },
  {
   "cell_type": "code",
   "execution_count": null,
   "metadata": {
    "collapsed": false,
    "scrolled": false
   },
   "outputs": [],
   "source": [
    "ica_motion_corr=numpy.zeros(ica_comps.shape[1])\n",
    "for c in range(ica_comps.shape[1]):\n",
    "    ica_motion_corr[c]=numpy.corrcoef(ica_comps[:,c],fd)[0,1]\n",
    "    if abs(ica_motion_corr[c])>0.4:\n",
    "        comp_img=nibabel.load(os.path.join(melodic_results.outputs.out_dir,'stats/thresh_zstat%d.nii.gz'%int(c+1)))\n",
    "        nilearn.plotting.plot_stat_map(comp_img,mcflirt_results.outputs.mean_img,threshold=1.5,\n",
    "               title='component %d - r(FD)=%0.3f'%(c+1,ica_motion_corr[c]))\n",
    "        \n"
   ]
  },
  {
   "cell_type": "markdown",
   "metadata": {},
   "source": [
    "## Fieldmap unwarping"
   ]
  },
  {
   "cell_type": "markdown",
   "metadata": {},
   "source": [
    "Take the first magnitue image and skull strip it"
   ]
  },
  {
   "cell_type": "code",
   "execution_count": null,
   "metadata": {
    "collapsed": false
   },
   "outputs": [],
   "source": [
    "magfile=os.path.join(datadir,'sub00001_ses014_001_magnitude.nii.gz')\n",
    "roi = mem.cache(fsl.ExtractROI)\n",
    "pick_first_mag = roi(in_file=magfile, t_min=0, t_size=1)\n",
    "\n",
    "# we'll need this later\n",
    "shutil.copy(pick_first_mag.outputs.roi_file, os.path.join(datadir, \"fmapmag.nii.gz\"))\n",
    "\n",
    "mag_bet_results = bet(functional=True,\n",
    "                      in_file=pick_first_mag.outputs.roi_file,\n",
    "                      mask=True,\n",
    "                      frac=0.65)\n",
    "mag_bet_results.outputs\n",
    "mask_display=nilearn.plotting.plot_epi(pick_first_mag.outputs.roi_file,cmap='gray')\n",
    "mask_display.add_contours(mag_bet_results.outputs.mask_file, levels=[.5])\n",
    "shutil.copy(mag_bet_results.outputs.out_file, os.path.join(datadir, \"fmapmagbrain.nii.gz\"))\n"
   ]
  },
  {
   "cell_type": "markdown",
   "metadata": {},
   "source": [
    "Prepare the fieldmap"
   ]
  },
  {
   "cell_type": "code",
   "execution_count": null,
   "metadata": {
    "collapsed": false,
    "scrolled": true
   },
   "outputs": [],
   "source": [
    "prepare = mem.cache(fsl.PrepareFieldmap)\n",
    "prepare_results = prepare(in_phase = os.path.join(datadir,'sub00001_ses014_001_phasediff.nii.gz'),\n",
    "                          in_magnitude = mag_bet_results.outputs.out_file,\n",
    "                          output_type = \"NIFTI_GZ\")\n",
    "shutil.copy(prepare_results.outputs.out_fieldmap, os.path.join(datadir, \"fieldmap.nii.gz\"))\n",
    "prepare_results.outputs"
   ]
  },
  {
   "cell_type": "markdown",
   "metadata": {},
   "source": [
    "Which parts of the brain were most deformed by B0 inhomogeneities?"
   ]
  },
  {
   "cell_type": "code",
   "execution_count": null,
   "metadata": {
    "collapsed": false
   },
   "outputs": [],
   "source": [
    "nilearn.plotting.plot_stat_map(nilearn.image.index_img(prepare_results.outputs.out_fieldmap,0), \n",
    "                               pick_first_mag.outputs.roi_file, threshold=100)"
   ]
  },
  {
   "cell_type": "markdown",
   "metadata": {},
   "source": [
    "Note that we don't really apply these transformations yet. We'll do it after first level modelling"
   ]
  },
  {
   "cell_type": "code",
   "execution_count": 19,
   "metadata": {
    "collapsed": false
   },
   "outputs": [
    {
     "name": "stderr",
     "output_type": "stream",
     "text": [
      "INFO:workflow:Executing node f33952ac5fe007779a55e37b747f71fd in dir: /home/vagrant/fmri-analysis-vm/analysis/preprocessing/nipype_mem/nipype-interfaces-fsl-preprocess-FUGUE/f33952ac5fe007779a55e37b747f71fd\n",
      "INFO:workflow:Collecting precomputed outputs\n"
     ]
    },
    {
     "data": {
      "text/plain": [
       "\n",
       "fmap_out_file = <undefined>\n",
       "shift_out_file = <undefined>\n",
       "unwarped_file = /home/vagrant/fmri-analysis-vm/analysis/preprocessing/nipype_mem/nipype-interfaces-fsl-preprocess-FUGUE/f33952ac5fe007779a55e37b747f71fd/sub00001_ses014_task002_run001_bold_mcf.nii.gz_mean_reg_unwarped.nii.gz\n",
       "warped_file = <undefined>"
      ]
     },
     "execution_count": 19,
     "metadata": {},
     "output_type": "execute_result"
    }
   ],
   "source": [
    "fugue = mem.cache(fsl.FUGUE)\n",
    "fugue_results = fugue(in_file = mcflirt_results.outputs.mean_img,\n",
    "                      fmap_in_file = prepare_results.outputs.out_fieldmap,\n",
    "                      unwarp_direction = \"y\",\n",
    "                      dwell_time = 2.6/10000.0,\n",
    "                      mask_file = mag_bet_results.outputs.mask_file)\n",
    "fugue_results.outputs\n",
    "shutil.copy(fugue_results.outputs.unwarped_file,os.path.join(datadir,'meanfunc_unwarped.nii.gz'))"
   ]
  },
  {
   "cell_type": "markdown",
   "metadata": {},
   "source": [
    "## Combined corregistration and fieldmap unwarping using boundary based registration"
   ]
  },
  {
   "cell_type": "code",
   "execution_count": 47,
   "metadata": {
    "collapsed": false
   },
   "outputs": [
    {
     "name": "stderr",
     "output_type": "stream",
     "text": [
      "INFO:workflow:Executing node ddd87d195bb9f510f9409c5497a49c91 in dir: /Users/poldrack/Dropbox/code/fmri-handbook-2e-code/notebooks/DataPreparation/nipype_mem/nipype-interfaces-fsl-epi-EpiReg/ddd87d195bb9f510f9409c5497a49c91\n",
      "INFO:workflow:Collecting precomputed outputs\n"
     ]
    },
    {
     "data": {
      "text/plain": [
       "\n",
       "epi2str_inv = /Users/poldrack/Dropbox/code/fmri-handbook-2e-code/notebooks/DataPreparation/nipype_mem/nipype-interfaces-fsl-epi-EpiReg/ddd87d195bb9f510f9409c5497a49c91/epi2struct_inv.mat\n",
       "epi2str_mat = /Users/poldrack/Dropbox/code/fmri-handbook-2e-code/notebooks/DataPreparation/nipype_mem/nipype-interfaces-fsl-epi-EpiReg/ddd87d195bb9f510f9409c5497a49c91/epi2struct.mat\n",
       "fmap2epi_mat = /Users/poldrack/Dropbox/code/fmri-handbook-2e-code/notebooks/DataPreparation/nipype_mem/nipype-interfaces-fsl-epi-EpiReg/ddd87d195bb9f510f9409c5497a49c91/epi2struct_fieldmaprads2epi.mat\n",
       "fmap2str_mat = /Users/poldrack/Dropbox/code/fmri-handbook-2e-code/notebooks/DataPreparation/nipype_mem/nipype-interfaces-fsl-epi-EpiReg/ddd87d195bb9f510f9409c5497a49c91/epi2struct_fieldmap2str.mat\n",
       "fmap_epi = /Users/poldrack/Dropbox/code/fmri-handbook-2e-code/notebooks/DataPreparation/nipype_mem/nipype-interfaces-fsl-epi-EpiReg/ddd87d195bb9f510f9409c5497a49c91/epi2struct_fieldmaprads2epi.nii.gz\n",
       "fmap_str = /Users/poldrack/Dropbox/code/fmri-handbook-2e-code/notebooks/DataPreparation/nipype_mem/nipype-interfaces-fsl-epi-EpiReg/ddd87d195bb9f510f9409c5497a49c91/epi2struct_fieldmaprads2str.nii.gz\n",
       "fmapmag_str = /Users/poldrack/Dropbox/code/fmri-handbook-2e-code/notebooks/DataPreparation/nipype_mem/nipype-interfaces-fsl-epi-EpiReg/ddd87d195bb9f510f9409c5497a49c91/epi2struct_fieldmap2str.nii.gz\n",
       "fullwarp = /Users/poldrack/Dropbox/code/fmri-handbook-2e-code/notebooks/DataPreparation/nipype_mem/nipype-interfaces-fsl-epi-EpiReg/ddd87d195bb9f510f9409c5497a49c91/epi2struct_warp.nii.gz\n",
       "out_1vol = /Users/poldrack/Dropbox/code/fmri-handbook-2e-code/notebooks/DataPreparation/nipype_mem/nipype-interfaces-fsl-epi-EpiReg/ddd87d195bb9f510f9409c5497a49c91/epi2struct_1vol.nii.gz\n",
       "out_file = /Users/poldrack/Dropbox/code/fmri-handbook-2e-code/notebooks/DataPreparation/nipype_mem/nipype-interfaces-fsl-epi-EpiReg/ddd87d195bb9f510f9409c5497a49c91/epi2struct.nii.gz\n",
       "shiftmap = /Users/poldrack/Dropbox/code/fmri-handbook-2e-code/notebooks/DataPreparation/nipype_mem/nipype-interfaces-fsl-epi-EpiReg/ddd87d195bb9f510f9409c5497a49c91/epi2struct_fieldmaprads2epi_shift.nii.gz\n",
       "wmedge = /Users/poldrack/Dropbox/code/fmri-handbook-2e-code/notebooks/DataPreparation/nipype_mem/nipype-interfaces-fsl-epi-EpiReg/ddd87d195bb9f510f9409c5497a49c91/epi2struct_fast_wmedge.nii.gz\n",
       "wmseg = /Users/poldrack/Dropbox/code/fmri-handbook-2e-code/notebooks/DataPreparation/nipype_mem/nipype-interfaces-fsl-epi-EpiReg/ddd87d195bb9f510f9409c5497a49c91/epi2struct_fast_wmseg.nii.gz"
      ]
     },
     "execution_count": 47,
     "metadata": {},
     "output_type": "execute_result"
    }
   ],
   "source": [
    "epi_reg = mem.cache(fsl.EpiReg)\n",
    "epi_reg_results = epi_reg(epi=mcflirt_results.outputs.mean_img,\n",
    "                          t1_head=bias_field_correction_results.outputs.output_image,\n",
    "                          t1_brain=os.path.join(datadir,'sub018_t1_corrected_brain.nii.gz'),\n",
    "                          fmap=prepare_results.outputs.out_fieldmap,\n",
    "                          fmapmag=pick_first_mag.outputs.roi_file,\n",
    "                          fmapmagbrain=mag_bet_results.outputs.out_file,\n",
    "                          echospacing=2.6/10000.0,\n",
    "                          pedir='y',\n",
    "                          out_base=\"epi2struct\")\n",
    "shutil.copy(epi_reg_results.outputs.out_file, os.path.join(datadir, \"epi_to_t1_warped.nii.gz\"))\n",
    "epi_reg_results.outputs"
   ]
  },
  {
   "cell_type": "code",
   "execution_count": null,
   "metadata": {
    "collapsed": true
   },
   "outputs": [],
   "source": []
  },
  {
   "cell_type": "markdown",
   "metadata": {},
   "source": [
    "## Spatial smoothing"
   ]
  },
  {
   "cell_type": "markdown",
   "metadata": {
    "collapsed": true
   },
   "source": [
    "Perform spatial smoothing using Gaussian kernel. Can you spot the difference between top and bottom rows?"
   ]
  },
  {
   "cell_type": "code",
   "execution_count": 20,
   "metadata": {
    "collapsed": false
   },
   "outputs": [
    {
     "name": "stderr",
     "output_type": "stream",
     "text": [
      "INFO:workflow:Executing node 61b7f927f50f1e2f1187e23ed0c9eb38 in dir: /home/vagrant/fmri-analysis-vm/analysis/preprocessing/nipype_mem/nipype-interfaces-fsl-utils-Smooth/61b7f927f50f1e2f1187e23ed0c9eb38\n",
      "INFO:workflow:Collecting precomputed outputs\n"
     ]
    },
    {
     "data": {
      "text/plain": [
       "<nilearn.plotting.displays.OrthoSlicer at 0x7fef15375cd0>"
      ]
     },
     "execution_count": 20,
     "metadata": {},
     "output_type": "execute_result"
    },
    {
     "data": {
      "image/png": "[encoded data removed]",
      "text/plain": [
       "<matplotlib.figure.Figure at 0x7fef156cf710>"
      ]
     },
     "metadata": {},
     "output_type": "display_data"
    },
    {
     "data": {
      "image/png": "[encoded data removed]",
      "text/plain": [
       "<matplotlib.figure.Figure at 0x7fef4853cb50>"
      ]
     },
     "metadata": {},
     "output_type": "display_data"
    }
   ],
   "source": [
    "smooth = mem.cache(fsl.utils.Smooth)\n",
    "smooth_results = smooth(fwhm=2.5,\n",
    "                        in_file=mcflirt_results.outputs.out_file,\n",
    "                        output_type = \"NIFTI\")\n",
    "\n",
    "nilearn.plotting.plot_epi(mcflirt_results.outputs.mean_img,colorbar=True, vmin=410, vmax=21000)\n",
    "nilearn.plotting.plot_epi(nilearn.image.mean_img(smooth_results.outputs.smoothed_file), colorbar=True, vmin=410, vmax=21000)"
   ]
  },
  {
   "cell_type": "markdown",
   "metadata": {},
   "source": [
    "## High pass filtering"
   ]
  },
  {
   "cell_type": "markdown",
   "metadata": {},
   "source": [
    "High-pass filtering - this will take a few minutes"
   ]
  },
  {
   "cell_type": "code",
   "execution_count": 21,
   "metadata": {
    "collapsed": false,
    "scrolled": true
   },
   "outputs": [
    {
     "name": "stderr",
     "output_type": "stream",
     "text": [
      "INFO:workflow:Executing node f7ad533e4a31e1d4df6eae69ac95a245 in dir: /home/vagrant/fmri-analysis-vm/analysis/preprocessing/nipype_mem/nipype-interfaces-fsl-maths-TemporalFilter/f7ad533e4a31e1d4df6eae69ac95a245\n",
      "INFO:workflow:Collecting precomputed outputs\n",
      "INFO:workflow:Executing node 73ff20dc51f2a3c5afc6b62dcc6b026c in dir: /home/vagrant/fmri-analysis-vm/analysis/preprocessing/nipype_mem/nipype-interfaces-fsl-maths-MeanImage/73ff20dc51f2a3c5afc6b62dcc6b026c\n",
      "INFO:workflow:Collecting precomputed outputs\n",
      "INFO:workflow:Executing node 8f2127a6d1564a45e01faaca63593d82 in dir: /home/vagrant/fmri-analysis-vm/analysis/preprocessing/nipype_mem/nipype-interfaces-fsl-maths-BinaryMaths/8f2127a6d1564a45e01faaca63593d82\n",
      "INFO:workflow:Collecting precomputed outputs\n"
     ]
    }
   ],
   "source": [
    "hpfilt = mem.cache(fsl.maths.TemporalFilter)\n",
    "TR = 2.32\n",
    "hpfilt_results = hpfilt(highpass_sigma = 100/(2*TR),\n",
    "                        in_file=smooth_results.outputs.smoothed_file,\n",
    "                        output_type = \"NIFTI\")\n",
    "\n",
    "mean = mem.cache(fsl.maths.MeanImage)\n",
    "mean_results = mean(in_file = smooth_results.outputs.smoothed_file)\n",
    "\n",
    "rescale = mem.cache(fsl.maths.BinaryMaths)\n",
    "rescale_results = rescale(in_file=hpfilt_results.outputs.out_file,\n",
    "                          operand_file = mean_results.outputs.out_file,\n",
    "                          operation = \"add\",\n",
    "                          output_type = \"NIFTI\")\n",
    "\n",
    "force_symlink(rescale_results.outputs.out_file, os.path.join(results_dir, \"preprocessed_epi_native_space.nii\"))"
   ]
  },
  {
   "cell_type": "markdown",
   "metadata": {},
   "source": []
  },
  {
   "cell_type": "code",
   "execution_count": null,
   "metadata": {
    "collapsed": true
   },
   "outputs": [],
   "source": []
  }
 ],
 "metadata": {
  "git": {
   "suppress_outputs": true
  },
  "kernelspec": {
   "display_name": "Python 2",
   "language": "python",
   "name": "python2"
  },
  "language_info": {
   "codemirror_mode": {
    "name": "ipython",
    "version": 2
   },
   "file_extension": ".py",
   "mimetype": "text/x-python",
   "name": "python",
   "nbconvert_exporter": "python",
   "pygments_lexer": "ipython2",
   "version": "2.7.10"
  }
 },
 "nbformat": 4,
 "nbformat_minor": 0
}
